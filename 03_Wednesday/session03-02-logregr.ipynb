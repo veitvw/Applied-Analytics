{
 "cells": [
  {
   "cell_type": "markdown",
   "metadata": {},
   "source": [
    "# Coding Block 2 - Logistic Regression"
   ]
  },
  {
   "cell_type": "markdown",
   "metadata": {},
   "source": [
    "### Load the packages"
   ]
  },
  {
   "cell_type": "code",
   "execution_count": null,
   "metadata": {
    "_cell_guid": "0cb67764-53d0-4532-bd46-0d244615eb22",
    "_uuid": "d2792fa5793698bcab3aca4e99c5cba382edc042",
    "collapsed": true
   },
   "outputs": [],
   "source": [
    "import pandas as pd\n",
    "import matplotlib.pyplot as plt\n",
    "import seaborn as sns\n",
    "import numpy as np\n",
    "import itertools\n",
    "from sklearn.model_selection import train_test_split\n",
    "from sklearn.linear_model import LogisticRegression\n",
    "from sklearn import metrics\n",
    "'''\n",
    "...\n",
    "'''"
   ]
  },
  {
   "cell_type": "markdown",
   "metadata": {},
   "source": [
    "### Read the dataset (You can test both preprocessed and raw data). "
   ]
  },
  {
   "cell_type": "code",
   "execution_count": null,
   "metadata": {
    "_cell_guid": "f2ebf534-cd7d-40cb-94f1-d01d3b47854b",
    "_uuid": "7701a4dec64aac2cb2207d948daac81609fce014",
    "collapsed": true
   },
   "outputs": [],
   "source": []
  },
  {
   "cell_type": "markdown",
   "metadata": {
    "_cell_guid": "d1714227-b678-4590-a1f3-65418ee42983",
    "_uuid": "68fff0bba19fa506cb14a6fa4ca838bc5a5e6d1a"
   },
   "source": [
    "### Let's Do Some Predictive Modeling"
   ]
  },
  {
   "cell_type": "markdown",
   "metadata": {
    "_cell_guid": "f948a9ec-cf4c-4b0c-8255-cbfbbc3d9a58",
    "_uuid": "aa1227d23a4f5b53268ecb111604d1eaa9023f54"
   },
   "source": [
    "### Stratification:\n",
    "Split the dataset into train (75%) and test datasets (25%)"
   ]
  },
  {
   "cell_type": "code",
   "execution_count": null,
   "metadata": {},
   "outputs": [],
   "source": []
  },
  {
   "cell_type": "markdown",
   "metadata": {},
   "source": [
    "### Do a Logistic Regression with test and training data"
   ]
  },
  {
   "cell_type": "code",
   "execution_count": null,
   "metadata": {},
   "outputs": [],
   "source": []
  },
  {
   "cell_type": "markdown",
   "metadata": {},
   "source": [
    "### Calculate Odds Ratios \n",
    "Find out about the feature importance by calculating the odds ratios of the logistic regression model "
   ]
  },
  {
   "cell_type": "code",
   "execution_count": null,
   "metadata": {},
   "outputs": [],
   "source": []
  },
  {
   "cell_type": "markdown",
   "metadata": {
    "_cell_guid": "96c0b887-fad4-404e-9eff-7f3148abb320",
    "_uuid": "d756cba8451cf20b0742b8bc4a0d85ab6252768e"
   },
   "source": [
    "### Logistic Regression Using Standardization\n",
    "\n",
    "Do a logistic regression on data that has been standardized before. Are there differences in the model output?"
   ]
  },
  {
   "cell_type": "code",
   "execution_count": null,
   "metadata": {},
   "outputs": [],
   "source": []
  }
 ],
 "metadata": {
  "kernelspec": {
   "display_name": "pimaIndianData",
   "language": "python",
   "name": "python3"
  },
  "language_info": {
   "codemirror_mode": {
    "name": "ipython",
    "version": 3
   },
   "file_extension": ".py",
   "mimetype": "text/x-python",
   "name": "python",
   "nbconvert_exporter": "python",
   "pygments_lexer": "ipython3",
   "version": "3.11.11"
  }
 },
 "nbformat": 4,
 "nbformat_minor": 1
}
