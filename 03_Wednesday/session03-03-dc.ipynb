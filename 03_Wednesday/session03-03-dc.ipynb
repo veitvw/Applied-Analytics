{
 "cells": [
  {
   "cell_type": "markdown",
   "id": "92fd1fb8",
   "metadata": {},
   "source": [
    "# Coding Block 3 - Decision Trees"
   ]
  },
  {
   "cell_type": "markdown",
   "id": "c39695e0",
   "metadata": {},
   "source": [
    "### Load the packages"
   ]
  },
  {
   "cell_type": "code",
   "execution_count": null,
   "id": "a2b0c94e",
   "metadata": {
    "_kg_hide-input": true,
    "execution": {
     "iopub.execute_input": "2021-09-20T20:03:00.442022Z",
     "iopub.status.busy": "2021-09-20T20:03:00.441258Z",
     "iopub.status.idle": "2021-09-20T20:03:01.852024Z",
     "shell.execute_reply": "2021-09-20T20:03:01.851352Z",
     "shell.execute_reply.started": "2021-09-20T19:54:12.026788Z"
    },
    "papermill": {
     "duration": 1.435807,
     "end_time": "2021-09-20T20:03:01.852223",
     "exception": false,
     "start_time": "2021-09-20T20:03:00.416416",
     "status": "completed"
    },
    "tags": []
   },
   "outputs": [],
   "source": [
    "import numpy as np\n",
    "import pandas as pd\n",
    "import seaborn as sns\n",
    "from plotly.offline import init_notebook_mode,iplot\n",
    "from plotly.tools import FigureFactory as ff\n",
    "from sklearn.tree import DecisionTreeClassifier\n",
    "from sklearn.metrics import *\n",
    "import matplotlib.pyplot as plt\n",
    "from sklearn.model_selection import train_test_split\n",
    "'''\n",
    "...\n",
    "'''"
   ]
  },
  {
   "cell_type": "markdown",
   "id": "5aaae9e8",
   "metadata": {},
   "source": [
    "### Read the dataset (the complete data with outliers and missing data). "
   ]
  },
  {
   "cell_type": "code",
   "execution_count": null,
   "id": "d1775d95",
   "metadata": {
    "_kg_hide-input": true,
    "execution": {
     "iopub.execute_input": "2021-09-20T20:03:01.895944Z",
     "iopub.status.busy": "2021-09-20T20:03:01.895175Z",
     "iopub.status.idle": "2021-09-20T20:03:05.794695Z",
     "shell.execute_reply": "2021-09-20T20:03:05.795244Z",
     "shell.execute_reply.started": "2021-09-20T19:54:12.050571Z"
    },
    "papermill": {
     "duration": 3.924865,
     "end_time": "2021-09-20T20:03:05.795452",
     "exception": false,
     "start_time": "2021-09-20T20:03:01.870587",
     "status": "completed"
    },
    "tags": []
   },
   "outputs": [],
   "source": []
  },
  {
   "cell_type": "markdown",
   "id": "ce5937d7",
   "metadata": {},
   "source": [
    "### Build a decision tree model\n",
    "Think of training-test distinction -- with cross validation."
   ]
  },
  {
   "cell_type": "code",
   "execution_count": null,
   "id": "878256be",
   "metadata": {},
   "outputs": [],
   "source": []
  },
  {
   "cell_type": "markdown",
   "id": "18e7c935",
   "metadata": {},
   "source": [
    "### Evaluate the prediction model using a classification report\n",
    "Does the model look like a successful model?"
   ]
  },
  {
   "cell_type": "code",
   "execution_count": null,
   "id": "977fd8e1",
   "metadata": {},
   "outputs": [],
   "source": []
  },
  {
   "cell_type": "markdown",
   "id": "eb8898f6",
   "metadata": {
    "papermill": {
     "duration": 0.02043,
     "end_time": "2021-09-20T20:03:06.320402",
     "exception": false,
     "start_time": "2021-09-20T20:03:06.299972",
     "status": "completed"
    },
    "tags": []
   },
   "source": [
    "## Visualize the Decision Tree\n",
    "\n",
    "One way to  do this is using <b>\n",
    "\n",
    "    <i>from sklearn.tree import plot_tree</i>\n",
    "\n",
    "Alternative way of plotting the decision tree using\n",
    "\n",
    "    <i> from sklearn.tree import export_graphviz import pydotplus </i>"
   ]
  },
  {
   "cell_type": "code",
   "execution_count": null,
   "id": "ba8c2fe9",
   "metadata": {},
   "outputs": [],
   "source": []
  },
  {
   "cell_type": "markdown",
   "id": "b81efddc",
   "metadata": {
    "papermill": {
     "duration": 0.056598,
     "end_time": "2021-09-20T20:03:22.134368",
     "exception": false,
     "start_time": "2021-09-20T20:03:22.077770",
     "status": "completed"
    },
    "tags": []
   },
   "source": [
    "### Make Decision Rules\n",
    "\n",
    "Make the decision rules explicit. You can use (e.g.)\n",
    "    <i> from sklearn.tree import export_text </i>"
   ]
  },
  {
   "cell_type": "code",
   "execution_count": null,
   "id": "3b61c69f",
   "metadata": {
    "_kg_hide-input": true,
    "_kg_hide-output": true,
    "execution": {
     "iopub.execute_input": "2021-09-20T20:03:22.251265Z",
     "iopub.status.busy": "2021-09-20T20:03:22.250408Z",
     "iopub.status.idle": "2021-09-20T20:03:22.253615Z",
     "shell.execute_reply": "2021-09-20T20:03:22.252955Z",
     "shell.execute_reply.started": "2021-09-20T19:56:29.736507Z"
    },
    "papermill": {
     "duration": 0.064328,
     "end_time": "2021-09-20T20:03:22.253802",
     "exception": false,
     "start_time": "2021-09-20T20:03:22.189474",
     "status": "completed"
    },
    "tags": []
   },
   "outputs": [],
   "source": []
  }
 ],
 "metadata": {
  "kernelspec": {
   "display_name": "pimaIndianData",
   "language": "python",
   "name": "python3"
  },
  "language_info": {
   "codemirror_mode": {
    "name": "ipython",
    "version": 3
   },
   "file_extension": ".py",
   "mimetype": "text/x-python",
   "name": "python",
   "nbconvert_exporter": "python",
   "pygments_lexer": "ipython3",
   "version": "3.11.11"
  },
  "papermill": {
   "default_parameters": {},
   "duration": 49.933279,
   "end_time": "2021-09-20T20:03:41.801824",
   "environment_variables": {},
   "exception": null,
   "input_path": "__notebook__.ipynb",
   "output_path": "__notebook__.ipynb",
   "parameters": {},
   "start_time": "2021-09-20T20:02:51.868545",
   "version": "2.3.3"
  }
 },
 "nbformat": 4,
 "nbformat_minor": 5
}
