{
 "cells": [
  {
   "cell_type": "markdown",
   "id": "d2f3dca4-0e1f-4e83-a273-00331c96dce8",
   "metadata": {},
   "source": [
    "Load all packages you need."
   ]
  },
  {
   "cell_type": "code",
   "execution_count": null,
   "id": "1051e413-cf81-4d1f-b78e-7508f914dccc",
   "metadata": {},
   "outputs": [],
   "source": []
  },
  {
   "cell_type": "markdown",
   "id": "4bbe9055-8868-4826-9d72-29ccaeb83e19",
   "metadata": {},
   "source": [
    "Read the dataset that you prepared yesterday afternoon (without outlier and missing data). "
   ]
  },
  {
   "cell_type": "code",
   "execution_count": null,
   "id": "e5450820-7e0f-4617-965d-c251c0354599",
   "metadata": {},
   "outputs": [],
   "source": []
  },
  {
   "cell_type": "markdown",
   "id": "e4b66f3e-c534-4437-a938-e635a76e4ec8",
   "metadata": {},
   "source": [
    "Let's apply association rule learning on the variables \"Age\" and \"Pregnancies\". Unfortunately, the dataset is not optimal for association rule learning, since most variables are continouus. <br>\n",
    "As a work around, we start by binning the data."
   ]
  },
  {
   "cell_type": "code",
   "execution_count": null,
   "id": "793a765f-88cb-4512-ad5b-cba46718451f",
   "metadata": {},
   "outputs": [],
   "source": []
  },
  {
   "cell_type": "markdown",
   "id": "afe623a9-1e08-45d3-9ec7-c5e012132897",
   "metadata": {},
   "source": [
    "Next, transform the categorical variables to dummy variables (e.g. age_bin < 30 = True)."
   ]
  },
  {
   "cell_type": "code",
   "execution_count": null,
   "id": "0c565084-1c6a-4453-8caa-f09480d16dfe",
   "metadata": {},
   "outputs": [],
   "source": []
  },
  {
   "cell_type": "markdown",
   "id": "6de3cef0-3c56-4c58-a234-10bff8b33945",
   "metadata": {},
   "source": [
    "Find frequent group bins and identify the corresponding association rules. Use different threshold rules for rule identification. <br>"
   ]
  },
  {
   "cell_type": "code",
   "execution_count": null,
   "id": "e3d97e13-1b49-468e-b8d9-d716f48ae564",
   "metadata": {},
   "outputs": [],
   "source": []
  }
 ],
 "metadata": {
  "kernelspec": {
   "display_name": "Python 3 (ipykernel)",
   "language": "python",
   "name": "python3"
  },
  "language_info": {
   "codemirror_mode": {
    "name": "ipython",
    "version": 3
   },
   "file_extension": ".py",
   "mimetype": "text/x-python",
   "name": "python",
   "nbconvert_exporter": "python",
   "pygments_lexer": "ipython3",
   "version": "3.12.8"
  }
 },
 "nbformat": 4,
 "nbformat_minor": 5
}
