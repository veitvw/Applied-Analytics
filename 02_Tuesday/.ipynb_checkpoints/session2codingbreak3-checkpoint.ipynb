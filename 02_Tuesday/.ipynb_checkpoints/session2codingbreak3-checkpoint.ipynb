{
 "cells": [
  {
   "cell_type": "markdown",
   "id": "d2f3dca4-0e1f-4e83-a273-00331c96dce8",
   "metadata": {},
   "source": [
    "Load all packages you need."
   ]
  },
  {
   "cell_type": "code",
   "execution_count": 1,
   "id": "1051e413-cf81-4d1f-b78e-7508f914dccc",
   "metadata": {},
   "outputs": [],
   "source": [
    "import seaborn as sns\n",
    "import matplotlib.pyplot as plt\n",
    "import numpy as np\n",
    "import itertools\n",
    "import pandas as pd\n",
    "from sklearn.covariance import EllipticEnvelope\n",
    "\n"
   ]
  },
  {
   "cell_type": "markdown",
   "id": "4bbe9055-8868-4826-9d72-29ccaeb83e19",
   "metadata": {},
   "source": [
    "Read the dataset that you prepared yesterday afternoon (without outlier and missing data). "
   ]
  },
  {
   "cell_type": "code",
   "execution_count": 2,
   "id": "e5450820-7e0f-4617-965d-c251c0354599",
   "metadata": {},
   "outputs": [],
   "source": [
    "data = pd.read_csv('C:\\\\Users\\\\v.weber\\\\Documents\\\\000 Master Wirtschaftsinformatik FU Berlin\\\\I\\\\Applied Analytics\\\\github stuff\\\\fork\\\\Applied-Analytics\\\\data\\\\data_after_monday.csv')"
   ]
  },
  {
   "cell_type": "markdown",
   "id": "e4b66f3e-c534-4437-a938-e635a76e4ec8",
   "metadata": {},
   "source": [
    "Let's try SOM on Age and Pregnancies. Don't forget the the variables should be normalized!"
   ]
  },
  {
   "cell_type": "code",
   "execution_count": 3,
   "id": "793a765f-88cb-4512-ad5b-cba46718451f",
   "metadata": {},
   "outputs": [],
   "source": [
    "import numpy as np\n",
    "import pandas as pd\n",
    "from scipy.stats import boxcox\n",
    "\n",
    "def normalize_skewed_variables(df, variables):\n",
    "    normalized_df = df.copy()\n",
    "    \n",
    "    for var in variables:\n",
    "        # Apply Box-Cox transformation (only for strictly positive values)\n",
    "        if (df[var] > 0).all():\n",
    "            transformed_data, _ = boxcox(df[var])\n",
    "        else:\n",
    "            transformed_data = np.log1p(df[var] - df[var].min() + 1)  # Log transform for non-positive values\n",
    "        \n",
    "        normalized_df[f\"{var}_norm\"] = (transformed_data - np.mean(transformed_data)) / np.std(transformed_data)\n",
    "\n",
    "    return normalized_df"
   ]
  },
  {
   "cell_type": "code",
   "execution_count": 4,
   "id": "28c73054-78a3-490c-9a85-434e6ecb2102",
   "metadata": {},
   "outputs": [],
   "source": [
    "norm_df = normalize_skewed_variables(data, ['Age', 'Pregnancies'])"
   ]
  },
  {
   "cell_type": "markdown",
   "id": "afe623a9-1e08-45d3-9ec7-c5e012132897",
   "metadata": {},
   "source": [
    "Perform the SOM algorithm (with minisom a well documented package is available on conda-forge). Tian, Azarian & Pecht (2014) suggest that a good estimation for the number of nodes in your map should be nodes = 5*sqrt(datapoints). Lets start with a 11x11 map structure and and define rectangular neighbourhood (only vertical and horizontal, no diagonal neighbours). Use a random seed for for reproducibility.  <br>\n",
    "Step 1:Initialize your SOM. <br>\n",
    "Stel 2: Train your SOM on 1000 iterations. <br>\n"
   ]
  },
  {
   "cell_type": "code",
   "execution_count": null,
   "id": "7dc06623-0361-4ad9-ba82-d79cfe951268",
   "metadata": {},
   "outputs": [],
   "source": []
  },
  {
   "cell_type": "markdown",
   "id": "808a30c6-e9c3-4f24-b5c1-1ae6845d4f10",
   "metadata": {},
   "source": [
    "Step 3: Plot the neighbourdhood distance of your trained SOM. How many cluster do you detect?"
   ]
  },
  {
   "cell_type": "code",
   "execution_count": null,
   "id": "64b4e4df-0f9f-4952-a352-1ffde4782a9f",
   "metadata": {},
   "outputs": [],
   "source": []
  },
  {
   "cell_type": "markdown",
   "id": "76bb009e-6f76-4d1c-a163-3de1316a1e0b",
   "metadata": {},
   "source": [
    "Step 4: Run K-Means on the nodes of your SOM. <br>\n",
    "Step 5: Assign each data point to it's BMU's cluster label.<br>\n",
    "Step 6: Plot clusters on scatterplot of \"Age\" vs \"Pregnancies\". Compare the clusters with the clusters determined by the K-Means algorithm during the previous coding break. "
   ]
  },
  {
   "cell_type": "code",
   "execution_count": null,
   "id": "f0c9c455-4877-4b8c-8610-0449e6544dc1",
   "metadata": {},
   "outputs": [],
   "source": []
  }
 ],
 "metadata": {
  "kernelspec": {
   "display_name": "Python 3 (ipykernel)",
   "language": "python",
   "name": "python3"
  },
  "language_info": {
   "codemirror_mode": {
    "name": "ipython",
    "version": 3
   },
   "file_extension": ".py",
   "mimetype": "text/x-python",
   "name": "python",
   "nbconvert_exporter": "python",
   "pygments_lexer": "ipython3",
   "version": "3.9.21"
  }
 },
 "nbformat": 4,
 "nbformat_minor": 5
}
