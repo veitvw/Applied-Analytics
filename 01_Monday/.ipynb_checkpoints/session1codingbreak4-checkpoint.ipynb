{
 "cells": [
  {
   "cell_type": "markdown",
   "id": "d2f3dca4-0e1f-4e83-a273-00331c96dce8",
   "metadata": {},
   "source": [
    "Load all packages you need."
   ]
  },
  {
   "cell_type": "code",
   "execution_count": null,
   "id": "1051e413-cf81-4d1f-b78e-7508f914dccc",
   "metadata": {},
   "outputs": [],
   "source": []
  },
  {
   "cell_type": "markdown",
   "id": "4bbe9055-8868-4826-9d72-29ccaeb83e19",
   "metadata": {},
   "source": [
    "Read the data."
   ]
  },
  {
   "cell_type": "code",
   "execution_count": null,
   "id": "e5450820-7e0f-4617-965d-c251c0354599",
   "metadata": {},
   "outputs": [],
   "source": []
  },
  {
   "cell_type": "markdown",
   "id": "2086e112-8b13-4034-ae7b-ea37ad18c0cc",
   "metadata": {},
   "source": [
    "Let's deal with the missing data points in \"BloodPressure\". <br>\n",
    "First remove the outlier from the last coding break.<br>\n",
    "Create a copy of the outlier-filtered data frame and impute the missing values with the \"BloodPressure\" median value."
   ]
  },
  {
   "cell_type": "code",
   "execution_count": null,
   "id": "85b1fedb-c1a3-4e47-8398-0deb0d831737",
   "metadata": {},
   "outputs": [],
   "source": []
  },
  {
   "cell_type": "markdown",
   "id": "822ae396-9ac9-4baa-aad1-b495eb459be9",
   "metadata": {},
   "source": [
    "Create a second copy of the outlier-filtered data frame. <br>\n",
    "Perform a hot-deck/distribution imputation. First, estimate the distribution parameters of \"BloodPressure\". Then, sample the values used for imputation."
   ]
  },
  {
   "cell_type": "code",
   "execution_count": null,
   "id": "23834628-554f-46aa-b650-b569b54bcddf",
   "metadata": {},
   "outputs": [],
   "source": []
  },
  {
   "cell_type": "markdown",
   "id": "ef5992a8-1171-45f7-aad9-1199557dca41",
   "metadata": {},
   "source": [
    "Create a third copy of the outlier-filtered data frame. <br>\n",
    "Perform a regression-based imputation. First, choose 3 variables that are correlated with \"BloodPressure\" (Hint, create a correlation matrix or have a look at the \"Associations\"-Button in sweetviz).<br>\n",
    "Second, fit a linear regression model with those three variables as predictors. Let's ignore for the moment that the other variables might also include outlier and missing data.<br>\n",
    "Now, use the regression model to estimate the imputed value for each missing data point."
   ]
  },
  {
   "cell_type": "code",
   "execution_count": null,
   "id": "5602687e-31ab-4578-86b0-bef6d3910576",
   "metadata": {},
   "outputs": [],
   "source": []
  },
  {
   "cell_type": "markdown",
   "id": "a91ba9cf-d2a7-4c88-bed5-8b0af8db3e5b",
   "metadata": {},
   "source": [
    "Now plot the original data next to the imputed data. Inspect the differences!"
   ]
  },
  {
   "cell_type": "code",
   "execution_count": null,
   "id": "7458bfed-b20d-45e9-876f-0d45b1928034",
   "metadata": {},
   "outputs": [],
   "source": []
  }
 ],
 "metadata": {
  "kernelspec": {
   "display_name": "Python 3 (ipykernel)",
   "language": "python",
   "name": "python3"
  },
  "language_info": {
   "codemirror_mode": {
    "name": "ipython",
    "version": 3
   },
   "file_extension": ".py",
   "mimetype": "text/x-python",
   "name": "python",
   "nbconvert_exporter": "python",
   "pygments_lexer": "ipython3",
   "version": "3.12.8"
  }
 },
 "nbformat": 4,
 "nbformat_minor": 5
}
