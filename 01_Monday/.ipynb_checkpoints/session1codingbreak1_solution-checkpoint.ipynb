{
 "cells": [
  {
   "cell_type": "markdown",
   "id": "c0cd5565-691f-42d5-a6d6-3e3603e2ed1b",
   "metadata": {},
   "source": [
    "Download our course GitHub Repository:\n",
    "\n",
    "With Git: \n",
    "\n",
    "```bash\n",
    "git clone https://github.com/Maxlja/Applied-Analytics.git\n",
    "```\n",
    "\n",
    "Without Git: \n",
    "1) Open the GitHub repository: <br>\n",
    "https://github.com/Maxlja/Applied-Analytics <br>\n",
    "2) Click on the green Code button.<br>\n",
    "3) Select Download ZIP. <br>\n",
    "4) Extract the downloaded ZIP file. <br>"
   ]
  },
  {
   "cell_type": "markdown",
   "id": "647b760e-f5ce-41b6-afca-4c3c8da7bce1",
   "metadata": {},
   "source": [
    "Run an Anaconda shell and Naviagte to the folder of the first course day:\n",
    "Naviagte to the folder of the first course day:\n",
    "```bash\n",
    "cd path/Applied-Analytics/01_Monday\n",
    "```\n",
    "\n",
    "Create a new environment for today and install the required packages from requirements.txt (you want to repeat this process for each day of the course).\n",
    "```bash\n",
    "conda env create -f environment.yml\n",
    "```\n",
    "\n",
    "Activate the environment and run the IDE of your choice:\n",
    "```bash\n",
    "conda activate aa_monday\n",
    "```\n",
    "```bash\n",
    "jupyter notebook\n",
    "```"
   ]
  }
 ],
 "metadata": {
  "kernelspec": {
   "display_name": "Python 3 (ipykernel)",
   "language": "python",
   "name": "python3"
  },
  "language_info": {
   "codemirror_mode": {
    "name": "ipython",
    "version": 3
   },
   "file_extension": ".py",
   "mimetype": "text/x-python",
   "name": "python",
   "nbconvert_exporter": "python",
   "pygments_lexer": "ipython3",
   "version": "3.9.21"
  }
 },
 "nbformat": 4,
 "nbformat_minor": 5
}
