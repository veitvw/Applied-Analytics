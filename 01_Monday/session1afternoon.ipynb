{
 "cells": [
  {
   "cell_type": "markdown",
   "id": "d1a9424f-8f8c-467d-a5d0-8f08ce5c8d6f",
   "metadata": {},
   "source": [
    "#### Task A\n",
    "Create a Data Audit for the Pima Indians Diabetes Database. The audit should cover:\n"
   ]
  },
  {
   "cell_type": "markdown",
   "id": "d2f3dca4-0e1f-4e83-a273-00331c96dce8",
   "metadata": {},
   "source": [
    "    1. Data Overview & Structure:\n",
    "\t\t\t- Provide a summary of the dataset.\n",
    "\t\t\t- Identify the number of rows and columns.\n",
    "\t\t\t- List all variables names and their data types.\n",
    "\t\t\t- Classify each variable as categorical or numerical.\t"
   ]
  },
  {
   "cell_type": "code",
   "execution_count": 25,
   "id": "47603f2a-59e1-48fa-982c-bb65ad82f7ef",
   "metadata": {},
   "outputs": [],
   "source": [
    "import seaborn as sns\n",
    "import matplotlib.pyplot as plt\n",
    "import numpy as np\n",
    "import itertools\n",
    "from sklearn.covariance import EllipticEnvelope\n",
    "\n"
   ]
  },
  {
   "cell_type": "code",
   "execution_count": 8,
   "id": "411339e5-90e9-4b96-88cb-74561ddc9465",
   "metadata": {},
   "outputs": [],
   "source": [
    "import pandas as pd;\n",
    "import sweetviz as sv;\n",
    "data = pd.read_csv('C:\\\\Users\\\\v.weber\\\\Documents\\\\000 Master Wirtschaftsinformatik FU Berlin\\\\I\\\\Applied Analytics\\\\github stuff\\\\Applied-Analytics\\\\data\\\\diabetes.csv')"
   ]
  },
  {
   "cell_type": "code",
   "execution_count": 9,
   "id": "d35e26b6-5491-446a-9962-30de6fdfde8e",
   "metadata": {},
   "outputs": [
    {
     "name": "stdout",
     "output_type": "stream",
     "text": [
      "rows: 768, cols: 9\n"
     ]
    }
   ],
   "source": [
    "rows, cols = data.shape\n",
    "print(f'rows: {rows}, cols: {cols}')"
   ]
  },
  {
   "cell_type": "code",
   "execution_count": 10,
   "id": "e743a772-68d0-43ed-9a25-6ca4948d7781",
   "metadata": {},
   "outputs": [
    {
     "name": "stdout",
     "output_type": "stream",
     "text": [
      "Pregnancies                   int64\n",
      "Glucose                       int64\n",
      "BloodPressure                 int64\n",
      "SkinThickness                 int64\n",
      "Insulin                       int64\n",
      "BMI                         float64\n",
      "DiabetesPedigreeFunction    float64\n",
      "Age                           int64\n",
      "Outcome                       int64\n",
      "dtype: object\n"
     ]
    }
   ],
   "source": [
    "print(data.dtypes)"
   ]
  },
  {
   "cell_type": "markdown",
   "id": "2e32afad-6fa1-4e6f-be80-fec014a2985a",
   "metadata": {},
   "source": [
    "    2. Summary Statistics:\n",
    "\t\t\t- Compute key statistics such as mean, median, minimum, maximum, and standard deviation.\n",
    "\t\t\t- Create a histogram for each variable.\n",
    "   \t\t\t- Identify any unusual values that stand out and possible skew of the data."
   ]
  },
  {
   "cell_type": "code",
   "execution_count": 11,
   "id": "52131da0-3d10-4625-ba26-458a0e50ff91",
   "metadata": {},
   "outputs": [
    {
     "data": {
      "application/vnd.jupyter.widget-view+json": {
       "model_id": "d1feddb3b3034966b8c5c98972ecd167",
       "version_major": 2,
       "version_minor": 0
      },
      "text/plain": [
       "                                             |                                             | [  0%]   00:00 ->…"
      ]
     },
     "metadata": {},
     "output_type": "display_data"
    }
   ],
   "source": [
    "report = sv.analyze(data);"
   ]
  },
  {
   "cell_type": "code",
   "execution_count": 12,
   "id": "c3fe9d82-c1ca-46c8-ba62-2c724b46190f",
   "metadata": {},
   "outputs": [
    {
     "name": "stdout",
     "output_type": "stream",
     "text": [
      "Report report.html was generated! NOTEBOOK/COLAB USERS: the web browser MAY not pop up, regardless, the report IS saved in your notebook/colab files.\n"
     ]
    }
   ],
   "source": [
    "report.show_html('report.html')\n"
   ]
  },
  {
   "cell_type": "markdown",
   "id": "2561d4cc-b1ff-42ad-adf1-ef1be179866e",
   "metadata": {},
   "source": [
    "    3. Outlier:\n",
    "\t\t\t- Decide on a formal method to detect univariate outliers.\n",
    "\t\t\t- Report the number of outliers per variable.\n",
    "\t\t\t- Create scatterplots for each combination of variables.\n",
    "\t\t\t- Can you identify possible multivariate outliers that you did not detect as univariate outliers?"
   ]
  },
  {
   "cell_type": "code",
   "execution_count": 13,
   "id": "ae647aed-6af7-4a3c-8a11-9cc12e4bf836",
   "metadata": {},
   "outputs": [],
   "source": [
    "def remove_outliers(df):\n",
    "    Q1 = df.quantile(0.25)\n",
    "    Q3 = df.quantile(0.75)\n",
    "    IQR = Q3 - Q1\n",
    "    return df[~((df < (Q1 - 1.5 * IQR)) | (df > (Q3 + 1.5 * IQR))).any(axis=1)]"
   ]
  },
  {
   "cell_type": "code",
   "execution_count": 14,
   "id": "09470c4f-15eb-40e0-8fed-012ccfdb6a9e",
   "metadata": {},
   "outputs": [],
   "source": [
    "data_without_outliers = remove_outliers(data);"
   ]
  },
  {
   "cell_type": "code",
   "execution_count": 15,
   "id": "b56e83e5-2b24-4a51-85ad-30f1be7e3959",
   "metadata": {},
   "outputs": [
    {
     "data": {
      "application/vnd.jupyter.widget-view+json": {
       "model_id": "0352cad0717d42fba0aaf02c701bb2f3",
       "version_major": 2,
       "version_minor": 0
      },
      "text/plain": [
       "                                             |                                             | [  0%]   00:00 ->…"
      ]
     },
     "metadata": {},
     "output_type": "display_data"
    }
   ],
   "source": [
    "report2 = sv.analyze(data)"
   ]
  },
  {
   "cell_type": "code",
   "execution_count": 16,
   "id": "5389fec0-31ae-49de-be5f-c5c5da033b92",
   "metadata": {},
   "outputs": [
    {
     "name": "stdout",
     "output_type": "stream",
     "text": [
      "Report report.html was generated! NOTEBOOK/COLAB USERS: the web browser MAY not pop up, regardless, the report IS saved in your notebook/colab files.\n"
     ]
    }
   ],
   "source": [
    "report2.show_html('report.html')"
   ]
  },
  {
   "cell_type": "code",
   "execution_count": 17,
   "id": "a1cf0b32-9157-4dbd-a2a6-e50f12f74dbf",
   "metadata": {},
   "outputs": [],
   "source": [
    "def plot_all_scatterplots(df):\n",
    "    numeric_cols = df.select_dtypes(include=['number']).columns\n",
    "    combinations = list(itertools.combinations(numeric_cols, 2))\n",
    "    \n",
    "    for x, y in combinations:\n",
    "        plt.figure(figsize=(6, 4))\n",
    "        sns.scatterplot(data=df, x=x, y=y)\n",
    "        plt.title(f'Scatterplot of {x} vs {y}')\n",
    "        plt.show()"
   ]
  },
  {
   "cell_type": "code",
   "execution_count": 26,
   "id": "5b78988d-e50a-4b9f-bfc0-e867bd6e67f8",
   "metadata": {},
   "outputs": [
    {
     "ename": "NameError",
     "evalue": "name 'detect_univariate_outliers' is not defined",
     "output_type": "error",
     "traceback": [
      "\u001b[1;31m---------------------------------------------------------------------------\u001b[0m",
      "\u001b[1;31mNameError\u001b[0m                                 Traceback (most recent call last)",
      "Cell \u001b[1;32mIn[26], line 1\u001b[0m\n\u001b[1;32m----> 1\u001b[0m outlier_counts \u001b[38;5;241m=\u001b[39m \u001b[43mdetect_univariate_outliers\u001b[49m(data_without_outliers)\n",
      "\u001b[1;31mNameError\u001b[0m: name 'detect_univariate_outliers' is not defined"
     ]
    }
   ],
   "source": [
    "outlier_counts = detect_univariate_outliers(data_without_outliers)\n"
   ]
  },
  {
   "cell_type": "markdown",
   "id": "1d2e0916-f276-4b07-97a1-b48c837485fd",
   "metadata": {},
   "source": [
    "    5. Correlations.\n",
    "\t\t\t- Create a correlation matrix for the dataset.\n",
    "\t\t\t- Visualize the correlation matrix."
   ]
  },
  {
   "cell_type": "code",
   "execution_count": null,
   "id": "ab8ca5c1-a2e8-429b-b240-a51dd8e68732",
   "metadata": {},
   "outputs": [],
   "source": []
  },
  {
   "cell_type": "markdown",
   "id": "4caca47b-dc71-4e91-b711-0cbf9f2cf00e",
   "metadata": {},
   "source": [
    "#### Task B\n",
    "Based on your Data Audit, prepare your data for further analysis by handling outliers and missing data.\n"
   ]
  },
  {
   "cell_type": "code",
   "execution_count": 23,
   "id": "a60e8777-ede9-4ddb-b8df-dec31b950544",
   "metadata": {},
   "outputs": [],
   "source": [
    "def delete_zeros_except(df, columns):\n",
    "    df_modified = df.copy()\n",
    "    cols_to_modify = [col for col in df.columns if col not in columns]\n",
    "    df_modified[cols_to_modify] = df_modified[cols_to_modify].replace(0, np.nan)\n",
    "    return df_modified"
   ]
  },
  {
   "cell_type": "code",
   "execution_count": 27,
   "id": "99d6e89a-4622-4999-89e9-ac0b97853069",
   "metadata": {},
   "outputs": [],
   "source": [
    "# delete 0 values\n",
    "data_with_missing_values = delete_zeros_except(data, ['Pregnancies']);"
   ]
  },
  {
   "cell_type": "code",
   "execution_count": 28,
   "id": "f8c2f0f4-9926-493d-9406-1ab4f67ea6bf",
   "metadata": {},
   "outputs": [],
   "source": [
    "def hot_deck_imputation(df):\n",
    "    df_imputed = df.copy()\n",
    "    for col in df.columns:\n",
    "        missing_mask = df_imputed[col].isna()\n",
    "        if missing_mask.any():\n",
    "            df_imputed.loc[missing_mask, col] = df_imputed[col].dropna().sample(n=missing_mask.sum(), replace=True).values\n",
    "    return df_imputed"
   ]
  },
  {
   "cell_type": "code",
   "execution_count": 29,
   "id": "053995aa-02cc-49a6-859c-4de2dad54f07",
   "metadata": {},
   "outputs": [],
   "source": [
    "imputated_data = hot_deck_imputation(data_with_missing_values);"
   ]
  },
  {
   "cell_type": "code",
   "execution_count": 30,
   "id": "17916835-5b8a-41ba-ae4f-f77657f178ea",
   "metadata": {},
   "outputs": [],
   "source": [
    "df_without_univariate_outliers = remove_outliers(imputated_data);"
   ]
  },
  {
   "cell_type": "code",
   "execution_count": 31,
   "id": "77c49f35-0260-4fdb-a608-01ced49cceb9",
   "metadata": {},
   "outputs": [],
   "source": [
    "def remove_multivariate_outliers(df, contamination=0.01):\n",
    "    numeric_df = df.select_dtypes(include=['number'])\n",
    "    detector = EllipticEnvelope(contamination=contamination)\n",
    "    detector.fit(numeric_df)\n",
    "    mask = detector.predict(numeric_df) == 1\n",
    "    return df[mask]\n",
    "\n"
   ]
  },
  {
   "cell_type": "code",
   "execution_count": 32,
   "id": "eae1ccd9-9a9a-4004-8343-0e9a61486831",
   "metadata": {},
   "outputs": [],
   "source": [
    "df_cleaned_mv = remove_multivariate_outliers(df_without_univariate_outliers)"
   ]
  },
  {
   "cell_type": "code",
   "execution_count": 33,
   "id": "fe7a7861-1e82-4e18-81b1-0b06db6f91c4",
   "metadata": {},
   "outputs": [],
   "source": [
    "df_cleaned_mv.to_csv('data_after_monday.csv', index=False)"
   ]
  },
  {
   "cell_type": "code",
   "execution_count": 56,
   "id": "a0a66292-7b07-48de-9314-e5b06dc33ea7",
   "metadata": {},
   "outputs": [
    {
     "data": {
      "application/vnd.jupyter.widget-view+json": {
       "model_id": "d049e16683f44180b7c279b17f74094c",
       "version_major": 2,
       "version_minor": 0
      },
      "text/plain": [
       "                                             |                                             | [  0%]   00:00 ->…"
      ]
     },
     "metadata": {},
     "output_type": "display_data"
    }
   ],
   "source": [
    "report = sv.analyze(imputated_data);"
   ]
  },
  {
   "cell_type": "code",
   "execution_count": 57,
   "id": "f3efc752-b280-46af-8a29-3393c35bbdd8",
   "metadata": {},
   "outputs": [
    {
     "name": "stdout",
     "output_type": "stream",
     "text": [
      "Report report.html was generated! NOTEBOOK/COLAB USERS: the web browser MAY not pop up, regardless, the report IS saved in your notebook/colab files.\n"
     ]
    }
   ],
   "source": [
    "report.show_html('report.html')"
   ]
  },
  {
   "cell_type": "markdown",
   "id": "ff7cb281-773e-45e2-86cd-71b8a6012c4f",
   "metadata": {},
   "source": [
    "#### Task C\n",
    "Test different methods to sample training and test data from the dataset. Compare the sampled datasets based on the descriptive methods you have learned and evaluate which sampling method worked best."
   ]
  },
  {
   "cell_type": "code",
   "execution_count": 66,
   "id": "93368d96-c9b6-43e8-919f-c8be32089da0",
   "metadata": {},
   "outputs": [],
   "source": [
    "from sklearn.model_selection import train_test_split\n",
    "\n",
    "# Assuming 'target' is the column indicating diabetes (1 = diabetes, 0 = no diabetes)\n",
    "X = df_cleaned_mv.drop(columns=['Outcome'])  # Features\n",
    "y = df_cleaned_mv['Outcome']  # Target variable\n",
    "\n",
    "# Perform stratified sampling\n",
    "X_train, X_test, y_train, y_test = train_test_split(X, y, test_size=0.2, stratify=y, random_state=42)"
   ]
  },
  {
   "cell_type": "code",
   "execution_count": null,
   "id": "f8017095-8310-4b04-859d-1bd5330bb07b",
   "metadata": {},
   "outputs": [],
   "source": []
  }
 ],
 "metadata": {
  "kernelspec": {
   "display_name": "Python 3 (ipykernel)",
   "language": "python",
   "name": "python3"
  },
  "language_info": {
   "codemirror_mode": {
    "name": "ipython",
    "version": 3
   },
   "file_extension": ".py",
   "mimetype": "text/x-python",
   "name": "python",
   "nbconvert_exporter": "python",
   "pygments_lexer": "ipython3",
   "version": "3.9.21"
  }
 },
 "nbformat": 4,
 "nbformat_minor": 5
}
