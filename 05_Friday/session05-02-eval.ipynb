{
 "cells": [
  {
   "cell_type": "markdown",
   "id": "92fd1fb8",
   "metadata": {},
   "source": [
    "# Coding Block 2 - Evaluation Metrics"
   ]
  },
  {
   "cell_type": "markdown",
   "id": "c39695e0",
   "metadata": {},
   "source": [
    "### Load the packages"
   ]
  },
  {
   "cell_type": "code",
   "execution_count": null,
   "id": "a2b0c94e",
   "metadata": {
    "_kg_hide-input": true,
    "execution": {
     "iopub.execute_input": "2021-09-20T20:03:00.442022Z",
     "iopub.status.busy": "2021-09-20T20:03:00.441258Z",
     "iopub.status.idle": "2021-09-20T20:03:01.852024Z",
     "shell.execute_reply": "2021-09-20T20:03:01.851352Z",
     "shell.execute_reply.started": "2021-09-20T19:54:12.026788Z"
    },
    "papermill": {
     "duration": 1.435807,
     "end_time": "2021-09-20T20:03:01.852223",
     "exception": false,
     "start_time": "2021-09-20T20:03:00.416416",
     "status": "completed"
    },
    "tags": []
   },
   "outputs": [],
   "source": [
    "import numpy as np\n",
    "import pandas as pd\n",
    "import matplotlib.pyplot as plt\n",
    "from sklearn.ensemble import RandomForestClassifier\n",
    "from sklearn.model_selection import train_test_split\n",
    "from sklearn.metrics import accuracy_score\n",
    "'''\n",
    "...\n",
    "'''"
   ]
  },
  {
   "cell_type": "markdown",
   "id": "5aaae9e8",
   "metadata": {},
   "source": [
    "### Read the dataset "
   ]
  },
  {
   "cell_type": "code",
   "execution_count": null,
   "id": "d1775d95",
   "metadata": {
    "_kg_hide-input": true,
    "execution": {
     "iopub.execute_input": "2021-09-20T20:03:01.895944Z",
     "iopub.status.busy": "2021-09-20T20:03:01.895175Z",
     "iopub.status.idle": "2021-09-20T20:03:05.794695Z",
     "shell.execute_reply": "2021-09-20T20:03:05.795244Z",
     "shell.execute_reply.started": "2021-09-20T19:54:12.050571Z"
    },
    "papermill": {
     "duration": 3.924865,
     "end_time": "2021-09-20T20:03:05.795452",
     "exception": false,
     "start_time": "2021-09-20T20:03:01.870587",
     "status": "completed"
    },
    "tags": []
   },
   "outputs": [],
   "source": []
  },
  {
   "cell_type": "markdown",
   "id": "ce5937d7",
   "metadata": {},
   "source": [
    "### ML Evaluation Metrics for Different Stakeholders\n",
    "First, take a little time and think about different priorities that stakeholders could have when evaluating a diabetes prediction model. What might clinical healthcare providers, health insurance companies, public health officials, or patients be interested in?\n",
    "What evaluation metrics are here more or less important?"
   ]
  },
  {
   "cell_type": "markdown",
   "id": "c6395ae5",
   "metadata": {},
   "source": []
  },
  {
   "cell_type": "markdown",
   "id": "18e7c935",
   "metadata": {},
   "source": [
    "### Choose two specific stakeholder perspectives for your predictive analytics task\n",
    "Each perspective should emphasize a different evaluation metric. Train two predictive models based on these metrics."
   ]
  },
  {
   "cell_type": "code",
   "execution_count": null,
   "id": "977fd8e1",
   "metadata": {},
   "outputs": [],
   "source": []
  },
  {
   "cell_type": "markdown",
   "id": "eb8898f6",
   "metadata": {
    "papermill": {
     "duration": 0.02043,
     "end_time": "2021-09-20T20:03:06.320402",
     "exception": false,
     "start_time": "2021-09-20T20:03:06.299972",
     "status": "completed"
    },
    "tags": []
   },
   "source": [
    "### Implement adjustable decision thresholds\n",
    "Assume that the stakeholders want a model for which they can tune the decision threshold of their evaluation metric based on their risk tolerance\n",
    "\n",
    "Tipp: <br>\n",
    "You can have the probabilities of your model given by: <br>\n",
    "    <i>y_prob_clinical = clinical_model.predict_proba(X_test)[:, 1]</i> <br>\n",
    "And check if the probability is above a specific threshold: <br>\n",
    "    <i>y_pred = (y_prob_clinical >= threshold).astype(int)</i> <br>\n",
    "Then have your evaluation metric of choice being calculated for this specific threshold."
   ]
  },
  {
   "cell_type": "code",
   "execution_count": null,
   "id": "ba8c2fe9",
   "metadata": {},
   "outputs": [],
   "source": []
  },
  {
   "cell_type": "markdown",
   "id": "e2f653f6",
   "metadata": {},
   "source": [
    "### Insight generation\n",
    "Go beyond a highly predictive model and produce some insights to your stakeholders based on your modeling results in the last days. The last cells of the  solution notebook for coding session 4 of session 3 (Wednesday) are one example on how to do this. "
   ]
  },
  {
   "cell_type": "code",
   "execution_count": null,
   "id": "05338b36",
   "metadata": {},
   "outputs": [],
   "source": []
  }
 ],
 "metadata": {
  "kernelspec": {
   "display_name": "pimaIndianData",
   "language": "python",
   "name": "python3"
  },
  "language_info": {
   "codemirror_mode": {
    "name": "ipython",
    "version": 3
   },
   "file_extension": ".py",
   "mimetype": "text/x-python",
   "name": "python",
   "nbconvert_exporter": "python",
   "pygments_lexer": "ipython3",
   "version": "3.11.11"
  },
  "papermill": {
   "default_parameters": {},
   "duration": 49.933279,
   "end_time": "2021-09-20T20:03:41.801824",
   "environment_variables": {},
   "exception": null,
   "input_path": "__notebook__.ipynb",
   "output_path": "__notebook__.ipynb",
   "parameters": {},
   "start_time": "2021-09-20T20:02:51.868545",
   "version": "2.3.3"
  }
 },
 "nbformat": 4,
 "nbformat_minor": 5
}
