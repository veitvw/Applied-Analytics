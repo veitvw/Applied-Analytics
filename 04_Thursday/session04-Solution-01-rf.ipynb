{
 "cells": [
  {
   "cell_type": "markdown",
   "id": "92fd1fb8",
   "metadata": {},
   "source": [
    "# Coding Block 1 - Random Forests (and XGBoost)"
   ]
  },
  {
   "cell_type": "markdown",
   "id": "c39695e0",
   "metadata": {},
   "source": [
    "### Load the packages"
   ]
  },
  {
   "cell_type": "code",
   "execution_count": 1,
   "id": "a2b0c94e",
   "metadata": {
    "_kg_hide-input": true,
    "papermill": {
     "duration": 1.435807,
     "end_time": "2021-09-20T20:03:01.852223",
     "exception": false,
     "start_time": "2021-09-20T20:03:00.416416",
     "status": "completed"
    },
    "tags": []
   },
   "outputs": [
    {
     "data": {
      "text/plain": [
       "'\\n...\\n'"
      ]
     },
     "execution_count": 1,
     "metadata": {},
     "output_type": "execute_result"
    }
   ],
   "source": [
    "import pandas as pd\n",
    "import numpy as np\n",
    "from sklearn.model_selection import train_test_split\n",
    "from sklearn.ensemble import RandomForestClassifier\n",
    "from sklearn.metrics import classification_report\n",
    "import xgboost as xgb\n",
    "import matplotlib.pyplot as plt\n",
    "'''\n",
    "...\n",
    "'''"
   ]
  },
  {
   "cell_type": "markdown",
   "id": "5aaae9e8",
   "metadata": {},
   "source": [
    "### Read the dataset \n",
    "You can also compare processed and non-processed data."
   ]
  },
  {
   "cell_type": "code",
   "execution_count": 2,
   "id": "d1775d95",
   "metadata": {
    "_kg_hide-input": true,
    "papermill": {
     "duration": 3.924865,
     "end_time": "2021-09-20T20:03:05.795452",
     "exception": false,
     "start_time": "2021-09-20T20:03:01.870587",
     "status": "completed"
    },
    "tags": []
   },
   "outputs": [],
   "source": [
    "diab=pd.read_csv('diabetes.csv')\n",
    "diab_cleaned=pd.read_csv('diabetes_cleaned.csv')"
   ]
  },
  {
   "cell_type": "markdown",
   "id": "ce5937d7",
   "metadata": {},
   "source": [
    "### Split the data and train a Random Forest model\n",
    "### Evaluate the prediction models using a classification report\n",
    "### Print the feature importances of the random forest\n",
    "### Extra: Also train a XGBoost model and compare the results."
   ]
  },
  {
   "cell_type": "code",
   "execution_count": null,
   "id": "878256be",
   "metadata": {},
   "outputs": [
    {
     "name": "stdout",
     "output_type": "stream",
     "text": [
      "\n",
      "================================================================================\n",
      "Analysis for Original Dataset\n",
      "================================================================================\n",
      "\n",
      "--- Random Forest Model ---\n",
      "\n",
      "Classification Report for Random Forest:\n",
      "              precision    recall  f1-score   support\n",
      "\n",
      "           0       0.79      0.78      0.78        99\n",
      "           1       0.61      0.62      0.61        55\n",
      "\n",
      "    accuracy                           0.72       154\n",
      "   macro avg       0.70      0.70      0.70       154\n",
      "weighted avg       0.72      0.72      0.72       154\n",
      "\n",
      "\n",
      "Feature Importances for Random Forest:\n",
      "                    Feature  Importance\n",
      "1                   Glucose    0.258864\n",
      "5                       BMI    0.169984\n",
      "7                       Age    0.140931\n",
      "6  DiabetesPedigreeFunction    0.123768\n",
      "2             BloodPressure    0.088134\n",
      "0               Pregnancies    0.076551\n",
      "4                   Insulin    0.076122\n",
      "3             SkinThickness    0.065646\n"
     ]
    },
    {
     "data": {
      "image/png": "[encoded data removed]",
      "text/plain": [
       "<Figure size 720x432 with 1 Axes>"
      ]
     },
     "metadata": {
      "needs_background": "light"
     },
     "output_type": "display_data"
    },
    {
     "name": "stdout",
     "output_type": "stream",
     "text": [
      "\n",
      "--- XGBoost Model ---\n",
      "\n",
      "Classification Report for XGBoost:\n",
      "              precision    recall  f1-score   support\n",
      "\n",
      "           0       0.79      0.71      0.74        99\n",
      "           1       0.55      0.65      0.60        55\n",
      "\n",
      "    accuracy                           0.69       154\n",
      "   macro avg       0.67      0.68      0.67       154\n",
      "weighted avg       0.70      0.69      0.69       154\n",
      "\n",
      "\n",
      "Feature Importances for XGBoost:\n",
      "                    Feature  Importance\n",
      "1                   Glucose    0.247188\n",
      "5                       BMI    0.143292\n",
      "7                       Age    0.139741\n",
      "4                   Insulin    0.115176\n",
      "3             SkinThickness    0.098815\n",
      "2             BloodPressure    0.093273\n",
      "6  DiabetesPedigreeFunction    0.090128\n",
      "0               Pregnancies    0.072386\n"
     ]
    },
    {
     "data": {
      "image/png": "[encoded data removed]",
      "text/plain": [
       "<Figure size 720x432 with 1 Axes>"
      ]
     },
     "metadata": {
      "needs_background": "light"
     },
     "output_type": "display_data"
    },
    {
     "name": "stdout",
     "output_type": "stream",
     "text": [
      "\n",
      "--- Model Comparison ---\n",
      "Random Forest Accuracy: 0.7208\n",
      "XGBoost Accuracy: 0.6883\n",
      "Number of disagreements between models: 15 out of 154 samples\n",
      "\n",
      "================================================================================\n",
      "Analysis for Cleaned Dataset\n",
      "================================================================================\n",
      "\n",
      "--- Random Forest Model ---\n",
      "\n",
      "Classification Report for Random Forest:\n",
      "              precision    recall  f1-score   support\n",
      "\n",
      "       False       1.00      1.00      1.00       154\n",
      "\n",
      "    accuracy                           1.00       154\n",
      "   macro avg       1.00      1.00      1.00       154\n",
      "weighted avg       1.00      1.00      1.00       154\n",
      "\n",
      "\n",
      "Feature Importances for Random Forest:\n",
      "                    Feature  Importance\n",
      "6  DiabetesPedigreeFunction    0.550877\n",
      "9             outlier_Tukey    0.302210\n",
      "0               Pregnancies    0.033732\n",
      "5                       BMI    0.024069\n",
      "1                   Glucose    0.022692\n",
      "4                   Insulin    0.020687\n",
      "2             BloodPressure    0.017581\n",
      "7                       Age    0.016231\n",
      "3             SkinThickness    0.009801\n",
      "8                   Outcome    0.002121\n"
     ]
    },
    {
     "data": {
      "image/png": "[encoded data removed]",
      "text/plain": [
       "<Figure size 720x432 with 1 Axes>"
      ]
     },
     "metadata": {
      "needs_background": "light"
     },
     "output_type": "display_data"
    },
    {
     "name": "stdout",
     "output_type": "stream",
     "text": [
      "\n",
      "--- XGBoost Model ---\n",
      "\n",
      "Classification Report for XGBoost:\n",
      "              precision    recall  f1-score   support\n",
      "\n",
      "       False       1.00      1.00      1.00       154\n",
      "\n",
      "    accuracy                           1.00       154\n",
      "   macro avg       1.00      1.00      1.00       154\n",
      "weighted avg       1.00      1.00      1.00       154\n",
      "\n",
      "\n",
      "Feature Importances for XGBoost:\n",
      "                    Feature  Importance\n",
      "6  DiabetesPedigreeFunction         1.0\n",
      "0               Pregnancies         0.0\n",
      "1                   Glucose         0.0\n",
      "2             BloodPressure         0.0\n",
      "3             SkinThickness         0.0\n",
      "4                   Insulin         0.0\n",
      "5                       BMI         0.0\n",
      "7                       Age         0.0\n",
      "8                   Outcome         0.0\n",
      "9             outlier_Tukey         0.0\n"
     ]
    },
    {
     "data": {
      "image/png": "[encoded data removed]",
      "text/plain": [
       "<Figure size 720x432 with 1 Axes>"
      ]
     },
     "metadata": {
      "needs_background": "light"
     },
     "output_type": "display_data"
    },
    {
     "name": "stdout",
     "output_type": "stream",
     "text": [
      "\n",
      "--- Model Comparison ---\n",
      "Random Forest Accuracy: 1.0000\n",
      "XGBoost Accuracy: 1.0000\n",
      "Number of disagreements between models: 0 out of 154 samples\n"
     ]
    }
   ],
   "source": [
    "# Create a fixed version of the dataset without the outlier columns\n",
    "# We want to predict diabetes outcome, not outliers\n",
    "datasets = {\n",
    "    \"Original Dataset\": diab\n",
    "}\n",
    "\n",
    "# For the cleaned dataset, we drop the outlier columns\n",
    "# First check if diab_cleaned exists and has the expected structure\n",
    "if 'diab_cleaned' in globals():\n",
    "    # Check if it has an 'Outcome' column that we want to predict\n",
    "    if 'Outcome' in diab_cleaned.columns:\n",
    "        # Remove outlier columns which were causing the data leakage\n",
    "        cleaned_features = diab_cleaned.drop(columns=['outlier_z_score', 'outlier_Tukey'], errors='ignore')\n",
    "        # Now add it to our datasets dictionary\n",
    "        datasets[\"Cleaned Dataset\"] = cleaned_features\n",
    "\n",
    "for dataset_name, dataset in datasets.items():\n",
    "    print(f\"\\n{'='*80}\")\n",
    "    print(f\"Analysis for {dataset_name}\")\n",
    "    print(f\"{'='*80}\")\n",
    "    \n",
    "    # Split features and target\n",
    "    X = dataset.iloc[:, :-1]  # All columns except the last one\n",
    "    y = dataset.iloc[:, -1]   # Last column (Outcome)\n",
    "    \n",
    "    # Print target distribution\n",
    "    print(f\"\\nTarget distribution: {pd.Series(y).value_counts(normalize=True)}\")\n",
    "    \n",
    "    # Use stratified sampling to ensure balanced class distribution\n",
    "    X_train, X_test, y_train, y_test = train_test_split(\n",
    "        X, y, test_size=0.3, random_state=42, stratify=y\n",
    "    )\n",
    "    \n",
    "    # (i) Train a Random Forest model with regularization\n",
    "    print(\"\\n--- Random Forest Model ---\")\n",
    "    rf_model = RandomForestClassifier(\n",
    "        n_estimators=100, \n",
    "        max_depth=5,           # Limit tree depth to prevent overfitting\n",
    "        min_samples_split=10,  # Require more samples to split a node\n",
    "        min_samples_leaf=5,    # Require more samples in leaf nodes\n",
    "        max_features='sqrt',   # Use a subset of features for each split\n",
    "        random_state=42\n",
    "    )\n",
    "    rf_model.fit(X_train, y_train)\n",
    "    \n",
    "    # (ii) Evaluate with classification report\n",
    "    y_pred_rf = rf_model.predict(X_test)\n",
    "    print(\"\\nClassification Report for Random Forest:\")\n",
    "    print(classification_report(y_test, y_pred_rf))\n",
    "    \n",
    "    # (iii) Print feature importances\n",
    "    feature_importances = pd.DataFrame({\n",
    "        'Feature': X.columns,\n",
    "        'Importance': rf_model.feature_importances_\n",
    "    }).sort_values('Importance', ascending=False)\n",
    "    \n",
    "    print(\"\\nFeature Importances for Random Forest:\")\n",
    "    print(feature_importances)\n",
    "    \n",
    "    # Plot feature importances\n",
    "    plt.figure(figsize=(10, 6))\n",
    "    plt.barh(feature_importances['Feature'], feature_importances['Importance'])\n",
    "    plt.xlabel('Importance')\n",
    "    plt.title(f'Random Forest Feature Importances - {dataset_name}')\n",
    "    plt.gca().invert_yaxis()  # Display the highest importance at the top\n",
    "    plt.tight_layout()\n",
    "    plt.show()\n",
    "    \n",
    "    # (iv) Train XGBoost model with regularization\n",
    "    print(\"\\n--- XGBoost Model ---\")\n",
    "    xgb_model = xgb.XGBClassifier(\n",
    "        n_estimators=100,\n",
    "        max_depth=4,          # Shallow trees to prevent overfitting\n",
    "        learning_rate=0.1,    # Slower learning rate\n",
    "        subsample=0.8,        # Use 80% of samples for each tree\n",
    "        colsample_bytree=0.8, # Use 80% of features for each tree\n",
    "        reg_alpha=1,          # L1 regularization\n",
    "        reg_lambda=1,         # L2 regularization\n",
    "        random_state=42\n",
    "    )\n",
    "    xgb_model.fit(X_train, y_train)\n",
    "    \n",
    "    # Evaluate XGBoost\n",
    "    y_pred_xgb = xgb_model.predict(X_test)\n",
    "    print(\"\\nClassification Report for XGBoost:\")\n",
    "    print(classification_report(y_test, y_pred_xgb))\n",
    "    \n",
    "    # XGBoost feature importances\n",
    "    xgb_importances = pd.DataFrame({\n",
    "        'Feature': X.columns,\n",
    "        'Importance': xgb_model.feature_importances_\n",
    "    }).sort_values('Importance', ascending=False)\n",
    "    \n",
    "    print(\"\\nFeature Importances for XGBoost:\")\n",
    "    print(xgb_importances)\n",
    "    \n",
    "    # Plot XGBoost feature importances\n",
    "    plt.figure(figsize=(10, 6))\n",
    "    plt.barh(xgb_importances['Feature'], xgb_importances['Importance'])\n",
    "    plt.xlabel('Importance')\n",
    "    plt.title(f'XGBoost Feature Importances - {dataset_name}')\n",
    "    plt.gca().invert_yaxis()\n",
    "    plt.tight_layout()\n",
    "    plt.show()\n",
    "    \n",
    "    # Add cross-validation to get more reliable estimates\n",
    "    print(\"\\n--- Cross-Validation Results ---\")\n",
    "    from sklearn.model_selection import cross_val_score\n",
    "    \n",
    "    rf_cv_scores = cross_val_score(rf_model, X, y, cv=5, scoring='accuracy')\n",
    "    xgb_cv_scores = cross_val_score(xgb_model, X, y, cv=5, scoring='accuracy')\n",
    "    \n",
    "    print(f\"Random Forest 5-Fold CV Accuracy: {rf_cv_scores.mean():.4f} ± {rf_cv_scores.std():.4f}\")\n",
    "    print(f\"XGBoost 5-Fold CV Accuracy: {xgb_cv_scores.mean():.4f} ± {xgb_cv_scores.std():.4f}\")\n",
    "    \n",
    "    # Compare the models\n",
    "    print(\"\\n--- Model Comparison ---\")\n",
    "    print(f\"Random Forest Test Accuracy: {rf_model.score(X_test, y_test):.4f}\")\n",
    "    print(f\"Random Forest Train Accuracy: {rf_model.score(X_train, y_train):.4f}\")\n",
    "    print(f\"XGBoost Test Accuracy: {xgb_model.score(X_test, y_test):.4f}\")\n",
    "    print(f\"XGBoost Train Accuracy: {xgb_model.score(X_train, y_train):.4f}\")\n",
    "    \n",
    "    # Check if there are differences in the predictions\n",
    "    disagreements = np.sum(y_pred_rf != y_pred_xgb)\n",
    "    print(f\"Number of disagreements between models: {disagreements} out of {len(y_test)} samples\")\n",
    "\n",
    "# Use the original dataset models\n",
    "X = datasets[\"Original Dataset\"].iloc[:, :-1]\n",
    "y = datasets[\"Original Dataset\"].iloc[:, -1]\n",
    "X_train, X_test, y_train, y_test = train_test_split(X, y, test_size=0.3, random_state=42, stratify=y)\n",
    "rf_model = rf_model  # This will be the last trained Random Forest model\n",
    "xgb_model = xgb_model  # This will be the last trained XGBoost model"
   ]
  },
  {
   "cell_type": "markdown",
   "id": "a6d03466",
   "metadata": {},
   "source": []
  }
 ],
 "metadata": {
  "kernelspec": {
   "display_name": "pimaIndianDataAutoML",
   "language": "python",
   "name": "python3"
  },
  "language_info": {
   "codemirror_mode": {
    "name": "ipython",
    "version": 3
   },
   "file_extension": ".py",
   "mimetype": "text/x-python",
   "name": "python",
   "nbconvert_exporter": "python",
   "pygments_lexer": "ipython3",
   "version": "3.11.11"
  },
  "papermill": {
   "default_parameters": {},
   "duration": 49.933279,
   "end_time": "2021-09-20T20:03:41.801824",
   "environment_variables": {},
   "exception": null,
   "input_path": "__notebook__.ipynb",
   "output_path": "__notebook__.ipynb",
   "parameters": {},
   "start_time": "2021-09-20T20:02:51.868545",
   "version": "2.3.3"
  }
 },
 "nbformat": 4,
 "nbformat_minor": 5
}
