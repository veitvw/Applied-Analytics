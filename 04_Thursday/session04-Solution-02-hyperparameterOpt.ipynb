{
 "cells": [
  {
   "cell_type": "markdown",
   "id": "92fd1fb8",
   "metadata": {},
   "source": [
    "# Coding Block 2 - Hyperparameter Optimization"
   ]
  },
  {
   "cell_type": "markdown",
   "id": "c39695e0",
   "metadata": {},
   "source": [
    "### Load the packages"
   ]
  },
  {
   "cell_type": "code",
   "execution_count": 6,
   "id": "a2b0c94e",
   "metadata": {},
   "outputs": [],
   "source": [
    "import numpy as np\n",
    "import pandas as pd\n",
    "import matplotlib.pyplot as plt\n",
    "import xgboost as xgb\n",
    "from sklearn.ensemble import RandomForestClassifier\n",
    "from sklearn.model_selection import train_test_split, GridSearchCV, RandomizedSearchCV\n",
    "from sklearn.metrics import accuracy_score, classification_report\n",
    "import time"
   ]
  },
  {
   "cell_type": "markdown",
   "id": "5aaae9e8",
   "metadata": {},
   "source": [
    "### Read the dataset"
   ]
  },
  {
   "cell_type": "code",
   "execution_count": 7,
   "id": "d1775d95",
   "metadata": {},
   "outputs": [],
   "source": [
    "diab=pd.read_csv('diabetes.csv')\n",
    "diab_cleaned=pd.read_csv('diabetes_cleaned.csv')"
   ]
  },
  {
   "cell_type": "markdown",
   "id": "18e7c935",
   "metadata": {},
   "source": [
    "### Copy the code from your last successful classifiers (RF, XGBoost, ...)"
   ]
  },
  {
   "cell_type": "code",
   "execution_count": 8,
   "id": "444130fc",
   "metadata": {},
   "outputs": [],
   "source": [
    "def create_model(data, model_type=\"xgboost\"):\n",
    "    \"\"\"\n",
    "    Create and train ML models on the given dataset\n",
    "    \n",
    "    Parameters:\n",
    "    -----------\n",
    "    data : DataFrame\n",
    "        The dataset containing features and target variable\n",
    "    model_type : str\n",
    "        The type of model to create (default: \"xgboost\")\n",
    "        \n",
    "    Returns:\n",
    "    --------\n",
    "    dict\n",
    "        Dictionary containing the trained model, X and y data, and train/test splits\n",
    "    \"\"\"\n",
    "    # Separate features and target\n",
    "    X = data.drop('Outcome', axis=1)\n",
    "    y = data['Outcome']\n",
    "    \n",
    "    # Split the data\n",
    "    X_train, X_test, y_train, y_test = train_test_split(X, y, test_size=0.2, random_state=42)\n",
    "    \n",
    "    # Create and train model based on type\n",
    "    if model_type == \"random_forest\":\n",
    "        from sklearn.ensemble import RandomForestClassifier\n",
    "        model = RandomForestClassifier(random_state=42)\n",
    "        model.fit(X_train, y_train)\n",
    "    elif model_type == \"xgboost\":\n",
    "        import xgboost as xgb\n",
    "        model = xgb.XGBClassifier(random_state=42)\n",
    "        model.fit(X_train, y_train)\n",
    "    else:\n",
    "        raise ValueError(f\"Unsupported model type: {model_type}\")\n",
    "    \n",
    "    # Evaluate the model\n",
    "    y_pred = model.predict(X_test)\n",
    "    accuracy = accuracy_score(y_test, y_pred)\n",
    "    print(f\"{model_type.title()} Model Accuracy: {accuracy:.4f}\")\n",
    "    print(classification_report(y_test, y_pred))\n",
    "    \n",
    "    # Return model and data\n",
    "    return {\n",
    "        \"model\": model,\n",
    "        \"X\": X,\n",
    "        \"y\": y,\n",
    "        \"X_train\": X_train,\n",
    "        \"X_test\": X_test,\n",
    "        \"y_train\": y_train,\n",
    "        \"y_test\": y_test\n",
    "    }"
   ]
  },
  {
   "cell_type": "markdown",
   "id": "eb8898f6",
   "metadata": {},
   "source": [
    "### Define the parameter grid for GridSearchCV or use RandomizedSearchCV"
   ]
  },
  {
   "cell_type": "code",
   "execution_count": 9,
   "id": "ba8c2fe9",
   "metadata": {},
   "outputs": [
    {
     "name": "stdout",
     "output_type": "stream",
     "text": [
      "Total parameter combinations: 24\n"
     ]
    }
   ],
   "source": [
    "# Define a small parameter grid for XGBoost with GridSearchCV (~20 combinations)\n",
    "param_grid_xgb = {\n",
    "    'n_estimators': [100, 200],            # Number of trees\n",
    "    'max_depth': [3, 5, 7],                # Maximum tree depth\n",
    "    'learning_rate': [0.01, 0.1],          # Learning rate / eta\n",
    "    'subsample': [0.8],                    # Subsample ratio\n",
    "    'colsample_bytree': [0.8, 1.0]         # Column sampling per tree\n",
    "}\n",
    "\n",
    "# This grid creates 2×3×2×1×2 = 24 combinations\n",
    "print(f\"Total parameter combinations: {2*3*2*1*2}\")"
   ]
  },
  {
   "cell_type": "markdown",
   "id": "e2f653f6",
   "metadata": {},
   "source": [
    "### Perform GridSearchCV or RandomizedSearchCV and tune the hyperparameters of the model\n",
    "Maybe the hyperparameter tuning won't finish in time though. No problem."
   ]
  },
  {
   "cell_type": "code",
   "execution_count": 10,
   "id": "a6d03466",
   "metadata": {},
   "outputs": [
    {
     "name": "stdout",
     "output_type": "stream",
     "text": [
      "Xgboost Model Accuracy: 0.7468\n",
      "              precision    recall  f1-score   support\n",
      "\n",
      "           0       0.83      0.77      0.80        99\n",
      "           1       0.63      0.71      0.67        55\n",
      "\n",
      "    accuracy                           0.75       154\n",
      "   macro avg       0.73      0.74      0.73       154\n",
      "weighted avg       0.76      0.75      0.75       154\n",
      "\n",
      "Starting GridSearchCV for XGBoost...\n",
      "Fitting 5 folds for each of 24 candidates, totalling 120 fits\n",
      "GridSearchCV completed in 13.79 seconds\n",
      "\n",
      "Best parameters found:\n",
      "{'colsample_bytree': 0.8, 'learning_rate': 0.1, 'max_depth': 5, 'n_estimators': 100, 'subsample': 0.8}\n",
      "Best cross-validation accuracy: 0.6527\n",
      "\n",
      "Test set performance with optimized hyperparameters:\n",
      "Accuracy: 0.7662\n",
      "              precision    recall  f1-score   support\n",
      "\n",
      "           0       0.83      0.80      0.81        99\n",
      "           1       0.66      0.71      0.68        55\n",
      "\n",
      "    accuracy                           0.77       154\n",
      "   macro avg       0.75      0.75      0.75       154\n",
      "weighted avg       0.77      0.77      0.77       154\n",
      "\n",
      "\n",
      "Improvement in accuracy compared to default hyperparameters:\n",
      "Base model accuracy: 0.7468\n",
      "Optimized model accuracy: 0.7662\n",
      "Improvement: 1.95%\n"
     ]
    }
   ],
   "source": [
    "# Perform GridSearchCV for hyperparameter tuning on XGBoost model\n",
    "\n",
    "diab_cleaned.drop(columns=['outlier_z_score', 'outlier_Tukey'],\n",
    "                   errors='ignore', inplace=True)\n",
    "\n",
    "# Start timing\n",
    "start_time = time.time()\n",
    "\n",
    "# Import XGBoost\n",
    "import xgboost as xgb\n",
    "\n",
    "# First, create the base model with default hyperparameters\n",
    "model_results = create_model(diab_cleaned, model_type=\"xgboost\")\n",
    "X_train = model_results[\"X_train\"]\n",
    "y_train = model_results[\"y_train\"]\n",
    "X_test = model_results[\"X_test\"]\n",
    "y_test = model_results[\"y_test\"]\n",
    "\n",
    "# Create an XGBoost classifier object \n",
    "xgb_model = xgb.XGBClassifier(random_state=42)\n",
    "\n",
    "# Set up GridSearchCV with cross-validation\n",
    "grid_search = GridSearchCV(\n",
    "    estimator=xgb_model,\n",
    "    param_grid=param_grid_xgb,\n",
    "    scoring= 'f1',\n",
    "    cv=5,\n",
    "    verbose=1,\n",
    "    n_jobs=-1  # Use all available cores\n",
    ")\n",
    "\n",
    "# Fit the grid search to the data\n",
    "print(\"Starting GridSearchCV for XGBoost...\")\n",
    "grid_search.fit(X_train, y_train)\n",
    "\n",
    "# End timing\n",
    "end_time = time.time()\n",
    "print(f\"GridSearchCV completed in {end_time - start_time:.2f} seconds\")\n",
    "\n",
    "# Print the best parameters and best score\n",
    "print(\"\\nBest parameters found:\")\n",
    "print(grid_search.best_params_)\n",
    "print(f\"Best cross-validation accuracy: {grid_search.best_score_:.4f}\")\n",
    "\n",
    "# Train a model with the best parameters\n",
    "best_xgb = xgb.XGBClassifier(\n",
    "    random_state=42,\n",
    "    **grid_search.best_params_\n",
    ")\n",
    "best_xgb.fit(X_train, y_train)\n",
    "\n",
    "# Evaluate on test set\n",
    "y_pred = best_xgb.predict(X_test)\n",
    "print(\"\\nTest set performance with optimized hyperparameters:\")\n",
    "print(f\"Accuracy: {accuracy_score(y_test, y_pred):.4f}\")\n",
    "print(classification_report(y_test, y_pred))\n",
    "\n",
    "# Compare with base model\n",
    "print(\"\\nImprovement in accuracy compared to default hyperparameters:\")\n",
    "base_accuracy = accuracy_score(y_test, model_results[\"model\"].predict(X_test))\n",
    "optimized_accuracy = accuracy_score(y_test, y_pred)\n",
    "print(f\"Base model accuracy: {base_accuracy:.4f}\")\n",
    "print(f\"Optimized model accuracy: {optimized_accuracy:.4f}\")\n",
    "print(f\"Improvement: {(optimized_accuracy - base_accuracy) * 100:.2f}%\")"
   ]
  }
 ],
 "metadata": {
  "kernelspec": {
   "display_name": "pimaIndianDataAutoML",
   "language": "python",
   "name": "python3"
  },
  "language_info": {
   "codemirror_mode": {
    "name": "ipython",
    "version": 3
   },
   "file_extension": ".py",
   "mimetype": "text/x-python",
   "name": "python",
   "nbconvert_exporter": "python",
   "pygments_lexer": "ipython3",
   "version": "3.11.11"
  },
  "papermill": {
   "default_parameters": {},
   "duration": 49.933279,
   "end_time": "2021-09-20T20:03:41.801824",
   "environment_variables": {},
   "exception": null,
   "input_path": "__notebook__.ipynb",
   "output_path": "__notebook__.ipynb",
   "parameters": {},
   "start_time": "2021-09-20T20:02:51.868545",
   "version": "2.3.3"
  }
 },
 "nbformat": 4,
 "nbformat_minor": 5
}
